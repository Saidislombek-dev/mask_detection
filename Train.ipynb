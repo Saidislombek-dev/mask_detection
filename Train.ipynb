{
 "cells": [
  {
   "cell_type": "code",
   "execution_count": 1,
   "id": "4722c1f0",
   "metadata": {},
   "outputs": [],
   "source": [
    "from sklearn.model_selection import train_test_split\n",
    "import matplotlib.pyplot as plt\n",
    "from tensorflow import keras\n",
    "import numpy as np\n",
    "import cv2\n",
    "import glob"
   ]
  },
  {
   "cell_type": "code",
   "execution_count": 2,
   "id": "ac8e11cf",
   "metadata": {},
   "outputs": [],
   "source": [
    "labels = []\n",
    "data = []\n",
    "for i,j in enumerate(['without_mask','with_mask']):\n",
    "    for rasm in glob.glob('dataset/' + j + \"/*\"):\n",
    "        labels.append(i)\n",
    "        rasm = cv2.imread(rasm)\n",
    "        rasm = cv2.resize(rasm,(96,96))\n",
    "        data.append(rasm)\n",
    "\n",
    "data = np.array(data, dtype=np.uint8)\n",
    "labels = np.array(labels, dtype=np.uint8)"
   ]
  },
  {
   "cell_type": "code",
   "execution_count": 3,
   "id": "4352a116",
   "metadata": {},
   "outputs": [],
   "source": [
    "(X_train, X_test, y_train, y_test) = train_test_split(data, labels, test_size=0.2, random_state=42)"
   ]
  },
  {
   "cell_type": "code",
   "execution_count": 4,
   "id": "ed7fd831",
   "metadata": {},
   "outputs": [],
   "source": [
    "model = keras.Sequential([\n",
    "    keras.layers.Conv2D(32,(3,3),input_shape=(96,96,3),activation='relu'),\n",
    "    keras.layers.MaxPooling2D((2,2)),\n",
    "    keras.layers.Conv2D(64,(3,3),activation='relu'),\n",
    "    keras.layers.MaxPooling2D((2,2)),\n",
    "    keras.layers.Conv2D(128,(3,3),activation='relu'),\n",
    "    keras.layers.MaxPooling2D((2,2)),\n",
    "    keras.layers.Flatten(),\n",
    "    keras.layers.Dense(64,activation='relu'),\n",
    "    keras.layers.Dense(32,activation='relu'),\n",
    "    keras.layers.Dense(1,activation='sigmoid')\n",
    "])"
   ]
  },
  {
   "cell_type": "code",
   "execution_count": 5,
   "id": "463490b4",
   "metadata": {},
   "outputs": [
    {
     "name": "stdout",
     "output_type": "stream",
     "text": [
      "Epoch 1/7\n",
      "95/95 [==============================] - 11s 74ms/step - loss: 1.1716 - accuracy: 0.8589\n",
      "Epoch 2/7\n",
      "95/95 [==============================] - 7s 69ms/step - loss: 0.1496 - accuracy: 0.9466\n",
      "Epoch 3/7\n",
      "95/95 [==============================] - 7s 69ms/step - loss: 0.1240 - accuracy: 0.9542\n",
      "Epoch 4/7\n",
      "95/95 [==============================] - 7s 71ms/step - loss: 0.0906 - accuracy: 0.9654\n",
      "Epoch 5/7\n",
      "95/95 [==============================] - 7s 70ms/step - loss: 0.0608 - accuracy: 0.9766\n",
      "Epoch 6/7\n",
      "95/95 [==============================] - 7s 71ms/step - loss: 0.0503 - accuracy: 0.9825\n",
      "Epoch 7/7\n",
      "95/95 [==============================] - 7s 72ms/step - loss: 0.0459 - accuracy: 0.9848\n"
     ]
    },
    {
     "data": {
      "text/plain": [
       "<keras.callbacks.History at 0x24acbf94ca0>"
      ]
     },
     "execution_count": 5,
     "metadata": {},
     "output_type": "execute_result"
    }
   ],
   "source": [
    "model.compile(optimizer = 'adam',loss='binary_crossentropy',metrics=['accuracy'])\n",
    "model.fit(X_train,y_train,epochs=7)"
   ]
  },
  {
   "cell_type": "code",
   "execution_count": 6,
   "id": "b43dc5a8",
   "metadata": {},
   "outputs": [
    {
     "name": "stdout",
     "output_type": "stream",
     "text": [
      "24/24 [==============================] - 1s 43ms/step - loss: 0.1189 - accuracy: 0.9605\n"
     ]
    },
    {
     "data": {
      "text/plain": [
       "[0.11887463927268982, 0.9604743123054504]"
      ]
     },
     "execution_count": 6,
     "metadata": {},
     "output_type": "execute_result"
    }
   ],
   "source": [
    "model.evaluate(X_test,y_test)"
   ]
  },
  {
   "cell_type": "code",
   "execution_count": 7,
   "id": "d338513c",
   "metadata": {},
   "outputs": [],
   "source": [
    "model.save('mask.h5')"
   ]
  },
  {
   "cell_type": "code",
   "execution_count": 8,
   "id": "508a48b4",
   "metadata": {},
   "outputs": [
    {
     "name": "stdout",
     "output_type": "stream",
     "text": [
      "Epoch 1/7\n",
      "48/48 [==============================] - 8s 149ms/step - loss: 0.0164 - accuracy: 0.9944 - val_loss: 0.1013 - val_accuracy: 0.9723\n",
      "Epoch 2/7\n",
      "48/48 [==============================] - 7s 140ms/step - loss: 0.0067 - accuracy: 0.9970 - val_loss: 0.0983 - val_accuracy: 0.9736\n",
      "Epoch 3/7\n",
      "48/48 [==============================] - 7s 137ms/step - loss: 0.0034 - accuracy: 0.9997 - val_loss: 0.0756 - val_accuracy: 0.9816\n",
      "Epoch 4/7\n",
      "48/48 [==============================] - 7s 137ms/step - loss: 0.0014 - accuracy: 1.0000 - val_loss: 0.0795 - val_accuracy: 0.9776\n",
      "Epoch 5/7\n",
      "48/48 [==============================] - 7s 138ms/step - loss: 0.0011 - accuracy: 1.0000 - val_loss: 0.0943 - val_accuracy: 0.9776\n",
      "Epoch 6/7\n",
      "48/48 [==============================] - 7s 138ms/step - loss: 5.7933e-04 - accuracy: 1.0000 - val_loss: 0.0896 - val_accuracy: 0.9763\n",
      "Epoch 7/7\n",
      "48/48 [==============================] - 7s 137ms/step - loss: 3.7382e-04 - accuracy: 1.0000 - val_loss: 0.0921 - val_accuracy: 0.9763\n"
     ]
    }
   ],
   "source": [
    "history = model.fit(\n",
    "    X_train,\n",
    "    y_train,\n",
    "    batch_size=64,\n",
    "    epochs=7,\n",
    "    validation_data=(X_test, y_test),\n",
    ")"
   ]
  },
  {
   "cell_type": "code",
   "execution_count": 10,
   "id": "1080de7a",
   "metadata": {},
   "outputs": [
    {
     "data": {
      "image/png": "[encoded data removed]",
      "text/plain": [
       "<Figure size 640x480 with 1 Axes>"
      ]
     },
     "metadata": {},
     "output_type": "display_data"
    }
   ],
   "source": [
    "plt.plot(history.history[\"loss\"], label=\"train_loss\")\n",
    "plt.plot(history.history[\"val_loss\"], label=\"val_loss\")\n",
    "plt.plot(history.history[\"accuracy\"], label=\"train_acc\")\n",
    "plt.plot(history.history[\"val_accuracy\"], label=\"val_acc\")\n",
    "\n",
    "plt.title(\"Training & Validation -> Loss & Accuracy\")\n",
    "plt.xlabel(\"Epoch\")\n",
    "plt.ylabel(\"Loss/Accuracy\")\n",
    "plt.legend()\n",
    "\n",
    "plt.savefig('plot.png')"
   ]
  }
 ],
 "metadata": {
  "kernelspec": {
   "display_name": "Python 3 (ipykernel)",
   "language": "python",
   "name": "python3"
  },
  "language_info": {
   "codemirror_mode": {
    "name": "ipython",
    "version": 3
   },
   "file_extension": ".py",
   "mimetype": "text/x-python",
   "name": "python",
   "nbconvert_exporter": "python",
   "pygments_lexer": "ipython3",
   "version": "3.10.4"
  }
 },
 "nbformat": 4,
 "nbformat_minor": 5
}
