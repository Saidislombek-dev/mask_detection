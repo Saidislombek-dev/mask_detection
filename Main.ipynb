{
 "cells": [
  {
   "cell_type": "code",
   "execution_count": null,
   "id": "6b125daa",
   "metadata": {},
   "outputs": [],
   "source": [
    "import numpy as np\n",
    "import cv2\n",
    "from tensorflow.keras.models import load_model\n",
    "import cvlib as cv\n",
    "from tensorflow.keras.preprocessing.image import img_to_array\n",
    "\n",
    "model = load_model('mask.h5')\n",
    "\n",
    "video = cv2.VideoCapture(0)\n",
    "\n",
    "while video.isOpened():\n",
    "    boolean, kadr = video.read()\n",
    "    face,confindence = cv.detect_face(kadr)\n",
    "    \n",
    "    for index,yuz in enumerate(face):\n",
    "        (startX,startY,endX,endY) = yuz[0],yuz[1],yuz[2],yuz[3]\n",
    "        \n",
    "        yuz_np = np.copy(kadr[startY:endY,startX:endX])\n",
    "        \n",
    "        if yuz_np.shape[0] < 10 or yuz_np.shape[1] < 10:\n",
    "            continue\n",
    "            \n",
    "        yuz_np = cv2.resize(yuz_np,(96,96))\n",
    "        yuz_np = img_to_array(yuz_np)\n",
    "        yuz_np = np.expand_dims(yuz_np,axis=0)\n",
    "        \n",
    "        bashorat = model.predict(yuz_np)[0][0]\n",
    "        \n",
    "        if round(bashorat)==1:\n",
    "            color = (0,255,0)\n",
    "            label = \"Mask\"\n",
    "        else:\n",
    "            color = (0,0,255)\n",
    "            label = \"No mask\"\n",
    "            bashorat = 1 - bashorat\n",
    "            \n",
    "        label = f\"{label} {np.around(bashorat*100,2)}\"\n",
    "        \n",
    "        if startY-10 > 10:\n",
    "            Y=startY-10\n",
    "        else:\n",
    "            Y=startY+10\n",
    "        \n",
    "        cv2.rectangle(kadr,(startX,startY),(endX,endY),color,2)\n",
    "        cv2.putText(kadr,label,(startX,Y),cv2.FONT_HERSHEY_SIMPLEX,0.7,color,2)\n",
    "        \n",
    "    cv2.imshow('Mask Detection',kadr)\n",
    "    \n",
    "    if cv2.waitKey(1) & 0xFF == ord('q'):\n",
    "        break\n",
    "video.release()\n",
    "cv2.destroyAllWindows()"
   ]
  },
  {
   "cell_type": "code",
   "execution_count": null,
   "id": "e4f2f002",
   "metadata": {},
   "outputs": [],
   "source": []
  }
 ],
 "metadata": {
  "kernelspec": {
   "display_name": "Python 3 (ipykernel)",
   "language": "python",
   "name": "python3"
  },
  "language_info": {
   "codemirror_mode": {
    "name": "ipython",
    "version": 3
   },
   "file_extension": ".py",
   "mimetype": "text/x-python",
   "name": "python",
   "nbconvert_exporter": "python",
   "pygments_lexer": "ipython3",
   "version": "3.10.4"
  }
 },
 "nbformat": 4,
 "nbformat_minor": 5
}
